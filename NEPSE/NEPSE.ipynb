{
 "cells": [
  {
   "cell_type": "markdown",
   "source": [
    "We will try to predict if stock market will go up or down tomorrow"
   ],
   "metadata": {
    "collapsed": false
   },
   "id": "f476651daf9ab9fb"
  },
  {
   "cell_type": "code",
   "outputs": [],
   "source": [
    "# Imports part \n",
    "from sklearn.ensemble import RandomForestClassifier\n",
    "from sklearn.metrics import  precision_score\n",
    "import pandas as pd"
   ],
   "metadata": {
    "collapsed": false,
    "ExecuteTime": {
     "end_time": "2024-01-30T14:36:39.927663900Z",
     "start_time": "2024-01-30T14:36:39.324938100Z"
    }
   },
   "id": "c9bf1e15ee970ac",
   "execution_count": 1
  },
  {
   "cell_type": "code",
   "outputs": [],
   "source": [
    "# Download price history\n",
    "nepse = pd.read_csv(\"NEPSE.csv\")"
   ],
   "metadata": {
    "collapsed": false,
    "ExecuteTime": {
     "end_time": "2024-01-30T14:36:42.820203600Z",
     "start_time": "2024-01-30T14:36:42.796263900Z"
    }
   },
   "id": "5fbd60943a992e36",
   "execution_count": 2
  },
  {
   "cell_type": "code",
   "outputs": [
    {
     "data": {
      "text/plain": "     Symbol        Date     Open     High      Low    Close Percent Change  \\\n0     NEPSE  2024-01-30  2105.87  2128.11  2105.46  2119.61         0.70 %   \n1     NEPSE  2024-01-29  2097.48  2114.79  2097.23  2104.72         0.48 %   \n2     NEPSE  2024-01-28  2084.64  2098.14  2075.37  2094.46         0.49 %   \n3     NEPSE  2024-01-25  2088.49  2096.75  2072.78  2084.09        -0.18 %   \n4     NEPSE  2024-01-24  2098.97  2120.46  2083.45  2088.04        -0.48 %   \n...     ...         ...      ...      ...      ...      ...            ...   \n1133  NEPSE  2019-02-05  1143.58  1149.40  1143.39  1147.10         0.00 %   \n1134  NEPSE  2019-02-04  1152.98  1155.08  1144.27  1144.27         0.00 %   \n1135  NEPSE  2019-02-03  1160.57  1161.22  1152.16  1153.06         0.00 %   \n1136  NEPSE  2019-01-31  1162.34  1163.86  1160.26  1161.63         0.00 %   \n1137  NEPSE  2019-01-30  1160.53  1163.27  1159.35  1160.59         0.00 %   \n\n                Volume  \n0     5,544,217,593.12  \n1     4,566,522,230.82  \n2     3,833,776,580.76  \n3     3,764,505,450.98  \n4     3,897,022,598.98  \n...                ...  \n1133    221,967,008.00  \n1134    322,760,992.00  \n1135    321,743,008.00  \n1136    268,244,992.00  \n1137    190,572,992.00  \n\n[1138 rows x 8 columns]",
      "text/html": "<div>\n<style scoped>\n    .dataframe tbody tr th:only-of-type {\n        vertical-align: middle;\n    }\n\n    .dataframe tbody tr th {\n        vertical-align: top;\n    }\n\n    .dataframe thead th {\n        text-align: right;\n    }\n</style>\n<table border=\"1\" class=\"dataframe\">\n  <thead>\n    <tr style=\"text-align: right;\">\n      <th></th>\n      <th>Symbol</th>\n      <th>Date</th>\n      <th>Open</th>\n      <th>High</th>\n      <th>Low</th>\n      <th>Close</th>\n      <th>Percent Change</th>\n      <th>Volume</th>\n    </tr>\n  </thead>\n  <tbody>\n    <tr>\n      <th>0</th>\n      <td>NEPSE</td>\n      <td>2024-01-30</td>\n      <td>2105.87</td>\n      <td>2128.11</td>\n      <td>2105.46</td>\n      <td>2119.61</td>\n      <td>0.70 %</td>\n      <td>5,544,217,593.12</td>\n    </tr>\n    <tr>\n      <th>1</th>\n      <td>NEPSE</td>\n      <td>2024-01-29</td>\n      <td>2097.48</td>\n      <td>2114.79</td>\n      <td>2097.23</td>\n      <td>2104.72</td>\n      <td>0.48 %</td>\n      <td>4,566,522,230.82</td>\n    </tr>\n    <tr>\n      <th>2</th>\n      <td>NEPSE</td>\n      <td>2024-01-28</td>\n      <td>2084.64</td>\n      <td>2098.14</td>\n      <td>2075.37</td>\n      <td>2094.46</td>\n      <td>0.49 %</td>\n      <td>3,833,776,580.76</td>\n    </tr>\n    <tr>\n      <th>3</th>\n      <td>NEPSE</td>\n      <td>2024-01-25</td>\n      <td>2088.49</td>\n      <td>2096.75</td>\n      <td>2072.78</td>\n      <td>2084.09</td>\n      <td>-0.18 %</td>\n      <td>3,764,505,450.98</td>\n    </tr>\n    <tr>\n      <th>4</th>\n      <td>NEPSE</td>\n      <td>2024-01-24</td>\n      <td>2098.97</td>\n      <td>2120.46</td>\n      <td>2083.45</td>\n      <td>2088.04</td>\n      <td>-0.48 %</td>\n      <td>3,897,022,598.98</td>\n    </tr>\n    <tr>\n      <th>...</th>\n      <td>...</td>\n      <td>...</td>\n      <td>...</td>\n      <td>...</td>\n      <td>...</td>\n      <td>...</td>\n      <td>...</td>\n      <td>...</td>\n    </tr>\n    <tr>\n      <th>1133</th>\n      <td>NEPSE</td>\n      <td>2019-02-05</td>\n      <td>1143.58</td>\n      <td>1149.40</td>\n      <td>1143.39</td>\n      <td>1147.10</td>\n      <td>0.00 %</td>\n      <td>221,967,008.00</td>\n    </tr>\n    <tr>\n      <th>1134</th>\n      <td>NEPSE</td>\n      <td>2019-02-04</td>\n      <td>1152.98</td>\n      <td>1155.08</td>\n      <td>1144.27</td>\n      <td>1144.27</td>\n      <td>0.00 %</td>\n      <td>322,760,992.00</td>\n    </tr>\n    <tr>\n      <th>1135</th>\n      <td>NEPSE</td>\n      <td>2019-02-03</td>\n      <td>1160.57</td>\n      <td>1161.22</td>\n      <td>1152.16</td>\n      <td>1153.06</td>\n      <td>0.00 %</td>\n      <td>321,743,008.00</td>\n    </tr>\n    <tr>\n      <th>1136</th>\n      <td>NEPSE</td>\n      <td>2019-01-31</td>\n      <td>1162.34</td>\n      <td>1163.86</td>\n      <td>1160.26</td>\n      <td>1161.63</td>\n      <td>0.00 %</td>\n      <td>268,244,992.00</td>\n    </tr>\n    <tr>\n      <th>1137</th>\n      <td>NEPSE</td>\n      <td>2019-01-30</td>\n      <td>1160.53</td>\n      <td>1163.27</td>\n      <td>1159.35</td>\n      <td>1160.59</td>\n      <td>0.00 %</td>\n      <td>190,572,992.00</td>\n    </tr>\n  </tbody>\n</table>\n<p>1138 rows × 8 columns</p>\n</div>"
     },
     "execution_count": 3,
     "metadata": {},
     "output_type": "execute_result"
    }
   ],
   "source": [
    "nepse"
   ],
   "metadata": {
    "collapsed": false,
    "ExecuteTime": {
     "end_time": "2024-01-30T14:36:46.549090700Z",
     "start_time": "2024-01-30T14:36:46.532730100Z"
    }
   },
   "id": "ad13c7c8c8d3bdb0",
   "execution_count": 3
  },
  {
   "cell_type": "markdown",
   "source": [
    "The price of nepse for a day"
   ],
   "metadata": {
    "collapsed": false
   },
   "id": "be4ce2752cd5858e"
  },
  {
   "cell_type": "code",
   "outputs": [
    {
     "data": {
      "text/plain": "RangeIndex(start=0, stop=1138, step=1)"
     },
     "execution_count": 4,
     "metadata": {},
     "output_type": "execute_result"
    }
   ],
   "source": [
    "nepse.index"
   ],
   "metadata": {
    "collapsed": false,
    "ExecuteTime": {
     "end_time": "2024-01-30T14:37:00.704301300Z",
     "start_time": "2024-01-30T14:37:00.685740500Z"
    }
   },
   "id": "b17e4f71213c47c",
   "execution_count": 4
  },
  {
   "cell_type": "code",
   "outputs": [],
   "source": [
    "del nepse['Symbol']"
   ],
   "metadata": {
    "collapsed": false,
    "ExecuteTime": {
     "end_time": "2024-01-30T14:37:38.034856700Z",
     "start_time": "2024-01-30T14:37:37.989177600Z"
    }
   },
   "id": "97fea10515b16c2a",
   "execution_count": 7
  },
  {
   "cell_type": "markdown",
   "source": [
    "Cleaning    "
   ],
   "metadata": {
    "collapsed": false
   },
   "id": "f5f220303c1661ae"
  },
  {
   "cell_type": "code",
   "outputs": [],
   "source": [
    "del nepse['Percent Change']"
   ],
   "metadata": {
    "collapsed": false,
    "ExecuteTime": {
     "end_time": "2024-01-30T14:38:11.147571100Z",
     "start_time": "2024-01-30T14:38:11.129386200Z"
    }
   },
   "id": "c46760672ebadd01",
   "execution_count": 9
  },
  {
   "cell_type": "code",
   "outputs": [],
   "source": [
    "nepse[\"Date\"] = pd.to_datetime(nepse[\"Date\"])"
   ],
   "metadata": {
    "collapsed": false,
    "ExecuteTime": {
     "end_time": "2024-01-30T14:38:14.043445200Z",
     "start_time": "2024-01-30T14:38:14.021216300Z"
    }
   },
   "id": "9d0ea31854c2d4db",
   "execution_count": 10
  },
  {
   "cell_type": "code",
   "outputs": [],
   "source": [
    "nepse = nepse.set_index(\"Date\")"
   ],
   "metadata": {
    "collapsed": false,
    "ExecuteTime": {
     "end_time": "2024-01-30T14:38:15.340324300Z",
     "start_time": "2024-01-30T14:38:15.323532700Z"
    }
   },
   "id": "af6f3e5ef4d2211d",
   "execution_count": 11
  },
  {
   "cell_type": "code",
   "outputs": [
    {
     "data": {
      "text/plain": "DatetimeIndex(['2024-01-30', '2024-01-29', '2024-01-28', '2024-01-25',\n               '2024-01-24', '2024-01-23', '2024-01-22', '2024-01-21',\n               '2024-01-18', '2024-01-17',\n               ...\n               '2019-02-12', '2019-02-11', '2019-02-10', '2019-02-07',\n               '2019-02-06', '2019-02-05', '2019-02-04', '2019-02-03',\n               '2019-01-31', '2019-01-30'],\n              dtype='datetime64[ns]', name='Date', length=1138, freq=None)"
     },
     "execution_count": 12,
     "metadata": {},
     "output_type": "execute_result"
    }
   ],
   "source": [
    "nepse.index"
   ],
   "metadata": {
    "collapsed": false,
    "ExecuteTime": {
     "end_time": "2024-01-30T14:38:16.274597Z",
     "start_time": "2024-01-30T14:38:16.234387600Z"
    }
   },
   "id": "401f864bf72767ed",
   "execution_count": 12
  },
  {
   "cell_type": "code",
   "outputs": [],
   "source": [
    "nepse = nepse.sort_index()"
   ],
   "metadata": {
    "collapsed": false,
    "ExecuteTime": {
     "end_time": "2024-01-30T14:39:46.315869400Z",
     "start_time": "2024-01-30T14:39:46.291364900Z"
    }
   },
   "id": "94ba7b1b4c1fb7aa",
   "execution_count": 18
  },
  {
   "cell_type": "code",
   "outputs": [
    {
     "data": {
      "text/plain": "               Open     High      Low    Close            Volume  Tomorrow  \\\nDate                                                                         \n2019-01-30  1160.53  1163.27  1159.35  1160.59    190,572,992.00       NaN   \n2019-01-31  1162.34  1163.86  1160.26  1161.63    268,244,992.00   1160.59   \n2019-02-03  1160.57  1161.22  1152.16  1153.06    321,743,008.00   1161.63   \n2019-02-04  1152.98  1155.08  1144.27  1144.27    322,760,992.00   1153.06   \n2019-02-05  1143.58  1149.40  1143.39  1147.10    221,967,008.00   1144.27   \n...             ...      ...      ...      ...               ...       ...   \n2024-01-24  2098.97  2120.46  2083.45  2088.04  3,897,022,598.98   2098.29   \n2024-01-25  2088.49  2096.75  2072.78  2084.09  3,764,505,450.98   2088.04   \n2024-01-28  2084.64  2098.14  2075.37  2094.46  3,833,776,580.76   2084.09   \n2024-01-29  2097.48  2114.79  2097.23  2104.72  4,566,522,230.82   2094.46   \n2024-01-30  2105.87  2128.11  2105.46  2119.61  5,544,217,593.12   2104.72   \n\n            Target  \nDate                \n2019-01-30       0  \n2019-01-31       0  \n2019-02-03       1  \n2019-02-04       1  \n2019-02-05       0  \n...            ...  \n2024-01-24       1  \n2024-01-25       1  \n2024-01-28       0  \n2024-01-29       0  \n2024-01-30       0  \n\n[1138 rows x 7 columns]",
      "text/html": "<div>\n<style scoped>\n    .dataframe tbody tr th:only-of-type {\n        vertical-align: middle;\n    }\n\n    .dataframe tbody tr th {\n        vertical-align: top;\n    }\n\n    .dataframe thead th {\n        text-align: right;\n    }\n</style>\n<table border=\"1\" class=\"dataframe\">\n  <thead>\n    <tr style=\"text-align: right;\">\n      <th></th>\n      <th>Open</th>\n      <th>High</th>\n      <th>Low</th>\n      <th>Close</th>\n      <th>Volume</th>\n      <th>Tomorrow</th>\n      <th>Target</th>\n    </tr>\n    <tr>\n      <th>Date</th>\n      <th></th>\n      <th></th>\n      <th></th>\n      <th></th>\n      <th></th>\n      <th></th>\n      <th></th>\n    </tr>\n  </thead>\n  <tbody>\n    <tr>\n      <th>2019-01-30</th>\n      <td>1160.53</td>\n      <td>1163.27</td>\n      <td>1159.35</td>\n      <td>1160.59</td>\n      <td>190,572,992.00</td>\n      <td>NaN</td>\n      <td>0</td>\n    </tr>\n    <tr>\n      <th>2019-01-31</th>\n      <td>1162.34</td>\n      <td>1163.86</td>\n      <td>1160.26</td>\n      <td>1161.63</td>\n      <td>268,244,992.00</td>\n      <td>1160.59</td>\n      <td>0</td>\n    </tr>\n    <tr>\n      <th>2019-02-03</th>\n      <td>1160.57</td>\n      <td>1161.22</td>\n      <td>1152.16</td>\n      <td>1153.06</td>\n      <td>321,743,008.00</td>\n      <td>1161.63</td>\n      <td>1</td>\n    </tr>\n    <tr>\n      <th>2019-02-04</th>\n      <td>1152.98</td>\n      <td>1155.08</td>\n      <td>1144.27</td>\n      <td>1144.27</td>\n      <td>322,760,992.00</td>\n      <td>1153.06</td>\n      <td>1</td>\n    </tr>\n    <tr>\n      <th>2019-02-05</th>\n      <td>1143.58</td>\n      <td>1149.40</td>\n      <td>1143.39</td>\n      <td>1147.10</td>\n      <td>221,967,008.00</td>\n      <td>1144.27</td>\n      <td>0</td>\n    </tr>\n    <tr>\n      <th>...</th>\n      <td>...</td>\n      <td>...</td>\n      <td>...</td>\n      <td>...</td>\n      <td>...</td>\n      <td>...</td>\n      <td>...</td>\n    </tr>\n    <tr>\n      <th>2024-01-24</th>\n      <td>2098.97</td>\n      <td>2120.46</td>\n      <td>2083.45</td>\n      <td>2088.04</td>\n      <td>3,897,022,598.98</td>\n      <td>2098.29</td>\n      <td>1</td>\n    </tr>\n    <tr>\n      <th>2024-01-25</th>\n      <td>2088.49</td>\n      <td>2096.75</td>\n      <td>2072.78</td>\n      <td>2084.09</td>\n      <td>3,764,505,450.98</td>\n      <td>2088.04</td>\n      <td>1</td>\n    </tr>\n    <tr>\n      <th>2024-01-28</th>\n      <td>2084.64</td>\n      <td>2098.14</td>\n      <td>2075.37</td>\n      <td>2094.46</td>\n      <td>3,833,776,580.76</td>\n      <td>2084.09</td>\n      <td>0</td>\n    </tr>\n    <tr>\n      <th>2024-01-29</th>\n      <td>2097.48</td>\n      <td>2114.79</td>\n      <td>2097.23</td>\n      <td>2104.72</td>\n      <td>4,566,522,230.82</td>\n      <td>2094.46</td>\n      <td>0</td>\n    </tr>\n    <tr>\n      <th>2024-01-30</th>\n      <td>2105.87</td>\n      <td>2128.11</td>\n      <td>2105.46</td>\n      <td>2119.61</td>\n      <td>5,544,217,593.12</td>\n      <td>2104.72</td>\n      <td>0</td>\n    </tr>\n  </tbody>\n</table>\n<p>1138 rows × 7 columns</p>\n</div>"
     },
     "execution_count": 19,
     "metadata": {},
     "output_type": "execute_result"
    }
   ],
   "source": [
    "nepse"
   ],
   "metadata": {
    "collapsed": false,
    "ExecuteTime": {
     "end_time": "2024-01-30T14:39:51.283252Z",
     "start_time": "2024-01-30T14:39:51.259487800Z"
    }
   },
   "id": "af2b5d1b813310f0",
   "execution_count": 19
  },
  {
   "cell_type": "code",
   "outputs": [
    {
     "data": {
      "text/plain": "<Axes: xlabel='Date'>"
     },
     "execution_count": 20,
     "metadata": {},
     "output_type": "execute_result"
    },
    {
     "data": {
      "text/plain": "<Figure size 640x480 with 1 Axes>",
      "image/png": "[encoded data removed]"
     },
     "metadata": {},
     "output_type": "display_data"
    }
   ],
   "source": [
    "# plot the closing price against the index\n",
    "nepse.plot.line(y=\"Close\", use_index=True)"
   ],
   "metadata": {
    "collapsed": false,
    "ExecuteTime": {
     "end_time": "2024-01-30T14:39:59.423299400Z",
     "start_time": "2024-01-30T14:39:59.318199100Z"
    }
   },
   "id": "8dd405b855c63daa",
   "execution_count": 20
  },
  {
   "cell_type": "code",
   "outputs": [],
   "source": [
    "#Setup target \n",
    "nepse[\"Tomorrow\"] = nepse[\"Close\"].shift(-1)"
   ],
   "metadata": {
    "collapsed": false,
    "ExecuteTime": {
     "end_time": "2024-01-30T14:40:00.829104Z",
     "start_time": "2024-01-30T14:40:00.803361Z"
    }
   },
   "id": "6ddbd05ea679ece2",
   "execution_count": 21
  },
  {
   "cell_type": "code",
   "outputs": [
    {
     "data": {
      "text/plain": "               Open     High      Low    Close            Volume  Tomorrow  \\\nDate                                                                         \n2019-01-30  1160.53  1163.27  1159.35  1160.59    190,572,992.00   1161.63   \n2019-01-31  1162.34  1163.86  1160.26  1161.63    268,244,992.00   1153.06   \n2019-02-03  1160.57  1161.22  1152.16  1153.06    321,743,008.00   1144.27   \n2019-02-04  1152.98  1155.08  1144.27  1144.27    322,760,992.00   1147.10   \n2019-02-05  1143.58  1149.40  1143.39  1147.10    221,967,008.00   1139.72   \n...             ...      ...      ...      ...               ...       ...   \n2024-01-24  2098.97  2120.46  2083.45  2088.04  3,897,022,598.98   2084.09   \n2024-01-25  2088.49  2096.75  2072.78  2084.09  3,764,505,450.98   2094.46   \n2024-01-28  2084.64  2098.14  2075.37  2094.46  3,833,776,580.76   2104.72   \n2024-01-29  2097.48  2114.79  2097.23  2104.72  4,566,522,230.82   2119.61   \n2024-01-30  2105.87  2128.11  2105.46  2119.61  5,544,217,593.12       NaN   \n\n            Target  \nDate                \n2019-01-30       0  \n2019-01-31       0  \n2019-02-03       1  \n2019-02-04       1  \n2019-02-05       0  \n...            ...  \n2024-01-24       1  \n2024-01-25       1  \n2024-01-28       0  \n2024-01-29       0  \n2024-01-30       0  \n\n[1138 rows x 7 columns]",
      "text/html": "<div>\n<style scoped>\n    .dataframe tbody tr th:only-of-type {\n        vertical-align: middle;\n    }\n\n    .dataframe tbody tr th {\n        vertical-align: top;\n    }\n\n    .dataframe thead th {\n        text-align: right;\n    }\n</style>\n<table border=\"1\" class=\"dataframe\">\n  <thead>\n    <tr style=\"text-align: right;\">\n      <th></th>\n      <th>Open</th>\n      <th>High</th>\n      <th>Low</th>\n      <th>Close</th>\n      <th>Volume</th>\n      <th>Tomorrow</th>\n      <th>Target</th>\n    </tr>\n    <tr>\n      <th>Date</th>\n      <th></th>\n      <th></th>\n      <th></th>\n      <th></th>\n      <th></th>\n      <th></th>\n      <th></th>\n    </tr>\n  </thead>\n  <tbody>\n    <tr>\n      <th>2019-01-30</th>\n      <td>1160.53</td>\n      <td>1163.27</td>\n      <td>1159.35</td>\n      <td>1160.59</td>\n      <td>190,572,992.00</td>\n      <td>1161.63</td>\n      <td>0</td>\n    </tr>\n    <tr>\n      <th>2019-01-31</th>\n      <td>1162.34</td>\n      <td>1163.86</td>\n      <td>1160.26</td>\n      <td>1161.63</td>\n      <td>268,244,992.00</td>\n      <td>1153.06</td>\n      <td>0</td>\n    </tr>\n    <tr>\n      <th>2019-02-03</th>\n      <td>1160.57</td>\n      <td>1161.22</td>\n      <td>1152.16</td>\n      <td>1153.06</td>\n      <td>321,743,008.00</td>\n      <td>1144.27</td>\n      <td>1</td>\n    </tr>\n    <tr>\n      <th>2019-02-04</th>\n      <td>1152.98</td>\n      <td>1155.08</td>\n      <td>1144.27</td>\n      <td>1144.27</td>\n      <td>322,760,992.00</td>\n      <td>1147.10</td>\n      <td>1</td>\n    </tr>\n    <tr>\n      <th>2019-02-05</th>\n      <td>1143.58</td>\n      <td>1149.40</td>\n      <td>1143.39</td>\n      <td>1147.10</td>\n      <td>221,967,008.00</td>\n      <td>1139.72</td>\n      <td>0</td>\n    </tr>\n    <tr>\n      <th>...</th>\n      <td>...</td>\n      <td>...</td>\n      <td>...</td>\n      <td>...</td>\n      <td>...</td>\n      <td>...</td>\n      <td>...</td>\n    </tr>\n    <tr>\n      <th>2024-01-24</th>\n      <td>2098.97</td>\n      <td>2120.46</td>\n      <td>2083.45</td>\n      <td>2088.04</td>\n      <td>3,897,022,598.98</td>\n      <td>2084.09</td>\n      <td>1</td>\n    </tr>\n    <tr>\n      <th>2024-01-25</th>\n      <td>2088.49</td>\n      <td>2096.75</td>\n      <td>2072.78</td>\n      <td>2084.09</td>\n      <td>3,764,505,450.98</td>\n      <td>2094.46</td>\n      <td>1</td>\n    </tr>\n    <tr>\n      <th>2024-01-28</th>\n      <td>2084.64</td>\n      <td>2098.14</td>\n      <td>2075.37</td>\n      <td>2094.46</td>\n      <td>3,833,776,580.76</td>\n      <td>2104.72</td>\n      <td>0</td>\n    </tr>\n    <tr>\n      <th>2024-01-29</th>\n      <td>2097.48</td>\n      <td>2114.79</td>\n      <td>2097.23</td>\n      <td>2104.72</td>\n      <td>4,566,522,230.82</td>\n      <td>2119.61</td>\n      <td>0</td>\n    </tr>\n    <tr>\n      <th>2024-01-30</th>\n      <td>2105.87</td>\n      <td>2128.11</td>\n      <td>2105.46</td>\n      <td>2119.61</td>\n      <td>5,544,217,593.12</td>\n      <td>NaN</td>\n      <td>0</td>\n    </tr>\n  </tbody>\n</table>\n<p>1138 rows × 7 columns</p>\n</div>"
     },
     "execution_count": 22,
     "metadata": {},
     "output_type": "execute_result"
    }
   ],
   "source": [
    "nepse"
   ],
   "metadata": {
    "collapsed": false,
    "ExecuteTime": {
     "end_time": "2024-01-30T14:40:01.762086Z",
     "start_time": "2024-01-30T14:40:01.735009700Z"
    }
   },
   "id": "ccee1155fd24a506",
   "execution_count": 22
  },
  {
   "cell_type": "code",
   "outputs": [],
   "source": [
    "nepse[\"Target\"] = (nepse[\"Tomorrow\"] > nepse[\"Close\"]).astype(int)"
   ],
   "metadata": {
    "collapsed": false,
    "ExecuteTime": {
     "end_time": "2024-01-30T14:40:14.106314400Z",
     "start_time": "2024-01-30T14:40:14.080322900Z"
    }
   },
   "id": "d6bd79aac2d716d4",
   "execution_count": 23
  },
  {
   "cell_type": "code",
   "outputs": [],
   "source": [
    "nepse['Volume'] = nepse['Volume'].str.replace(',', '').astype(float)"
   ],
   "metadata": {
    "collapsed": false,
    "ExecuteTime": {
     "end_time": "2024-01-30T14:41:58.426269200Z",
     "start_time": "2024-01-30T14:41:58.394464500Z"
    }
   },
   "id": "7fafbac736e4f4ed",
   "execution_count": 28
  },
  {
   "cell_type": "code",
   "outputs": [
    {
     "data": {
      "text/plain": "               Open     High      Low    Close        Volume  Tomorrow  Target\nDate                                                                          \n2019-01-30  1160.53  1163.27  1159.35  1160.59  1.905730e+08   1161.63       1\n2019-01-31  1162.34  1163.86  1160.26  1161.63  2.682450e+08   1153.06       0\n2019-02-03  1160.57  1161.22  1152.16  1153.06  3.217430e+08   1144.27       0\n2019-02-04  1152.98  1155.08  1144.27  1144.27  3.227610e+08   1147.10       1\n2019-02-05  1143.58  1149.40  1143.39  1147.10  2.219670e+08   1139.72       0\n...             ...      ...      ...      ...           ...       ...     ...\n2024-01-24  2098.97  2120.46  2083.45  2088.04  3.897023e+09   2084.09       0\n2024-01-25  2088.49  2096.75  2072.78  2084.09  3.764505e+09   2094.46       1\n2024-01-28  2084.64  2098.14  2075.37  2094.46  3.833777e+09   2104.72       1\n2024-01-29  2097.48  2114.79  2097.23  2104.72  4.566522e+09   2119.61       1\n2024-01-30  2105.87  2128.11  2105.46  2119.61  5.544218e+09       NaN       0\n\n[1138 rows x 7 columns]",
      "text/html": "<div>\n<style scoped>\n    .dataframe tbody tr th:only-of-type {\n        vertical-align: middle;\n    }\n\n    .dataframe tbody tr th {\n        vertical-align: top;\n    }\n\n    .dataframe thead th {\n        text-align: right;\n    }\n</style>\n<table border=\"1\" class=\"dataframe\">\n  <thead>\n    <tr style=\"text-align: right;\">\n      <th></th>\n      <th>Open</th>\n      <th>High</th>\n      <th>Low</th>\n      <th>Close</th>\n      <th>Volume</th>\n      <th>Tomorrow</th>\n      <th>Target</th>\n    </tr>\n    <tr>\n      <th>Date</th>\n      <th></th>\n      <th></th>\n      <th></th>\n      <th></th>\n      <th></th>\n      <th></th>\n      <th></th>\n    </tr>\n  </thead>\n  <tbody>\n    <tr>\n      <th>2019-01-30</th>\n      <td>1160.53</td>\n      <td>1163.27</td>\n      <td>1159.35</td>\n      <td>1160.59</td>\n      <td>1.905730e+08</td>\n      <td>1161.63</td>\n      <td>1</td>\n    </tr>\n    <tr>\n      <th>2019-01-31</th>\n      <td>1162.34</td>\n      <td>1163.86</td>\n      <td>1160.26</td>\n      <td>1161.63</td>\n      <td>2.682450e+08</td>\n      <td>1153.06</td>\n      <td>0</td>\n    </tr>\n    <tr>\n      <th>2019-02-03</th>\n      <td>1160.57</td>\n      <td>1161.22</td>\n      <td>1152.16</td>\n      <td>1153.06</td>\n      <td>3.217430e+08</td>\n      <td>1144.27</td>\n      <td>0</td>\n    </tr>\n    <tr>\n      <th>2019-02-04</th>\n      <td>1152.98</td>\n      <td>1155.08</td>\n      <td>1144.27</td>\n      <td>1144.27</td>\n      <td>3.227610e+08</td>\n      <td>1147.10</td>\n      <td>1</td>\n    </tr>\n    <tr>\n      <th>2019-02-05</th>\n      <td>1143.58</td>\n      <td>1149.40</td>\n      <td>1143.39</td>\n      <td>1147.10</td>\n      <td>2.219670e+08</td>\n      <td>1139.72</td>\n      <td>0</td>\n    </tr>\n    <tr>\n      <th>...</th>\n      <td>...</td>\n      <td>...</td>\n      <td>...</td>\n      <td>...</td>\n      <td>...</td>\n      <td>...</td>\n      <td>...</td>\n    </tr>\n    <tr>\n      <th>2024-01-24</th>\n      <td>2098.97</td>\n      <td>2120.46</td>\n      <td>2083.45</td>\n      <td>2088.04</td>\n      <td>3.897023e+09</td>\n      <td>2084.09</td>\n      <td>0</td>\n    </tr>\n    <tr>\n      <th>2024-01-25</th>\n      <td>2088.49</td>\n      <td>2096.75</td>\n      <td>2072.78</td>\n      <td>2084.09</td>\n      <td>3.764505e+09</td>\n      <td>2094.46</td>\n      <td>1</td>\n    </tr>\n    <tr>\n      <th>2024-01-28</th>\n      <td>2084.64</td>\n      <td>2098.14</td>\n      <td>2075.37</td>\n      <td>2094.46</td>\n      <td>3.833777e+09</td>\n      <td>2104.72</td>\n      <td>1</td>\n    </tr>\n    <tr>\n      <th>2024-01-29</th>\n      <td>2097.48</td>\n      <td>2114.79</td>\n      <td>2097.23</td>\n      <td>2104.72</td>\n      <td>4.566522e+09</td>\n      <td>2119.61</td>\n      <td>1</td>\n    </tr>\n    <tr>\n      <th>2024-01-30</th>\n      <td>2105.87</td>\n      <td>2128.11</td>\n      <td>2105.46</td>\n      <td>2119.61</td>\n      <td>5.544218e+09</td>\n      <td>NaN</td>\n      <td>0</td>\n    </tr>\n  </tbody>\n</table>\n<p>1138 rows × 7 columns</p>\n</div>"
     },
     "execution_count": 29,
     "metadata": {},
     "output_type": "execute_result"
    }
   ],
   "source": [
    "nepse"
   ],
   "metadata": {
    "collapsed": false,
    "ExecuteTime": {
     "end_time": "2024-01-30T14:42:00.159976800Z",
     "start_time": "2024-01-30T14:42:00.124Z"
    }
   },
   "id": "f377324e38ee2927",
   "execution_count": 29
  },
  {
   "cell_type": "markdown",
   "source": [
    "Training initial model "
   ],
   "metadata": {
    "collapsed": false
   },
   "id": "94b8c66d0c9954e2"
  },
  {
   "cell_type": "code",
   "outputs": [],
   "source": [
    "#RFC\n",
    "model = RandomForestClassifier(n_estimators=200, min_samples_split=100,random_state=1)"
   ],
   "metadata": {
    "collapsed": false,
    "ExecuteTime": {
     "end_time": "2024-01-30T14:41:07.600347600Z",
     "start_time": "2024-01-30T14:41:07.567467500Z"
    }
   },
   "id": "a52d92fc1b3134ce",
   "execution_count": 26
  },
  {
   "cell_type": "code",
   "outputs": [
    {
     "data": {
      "text/plain": "RandomForestClassifier(min_samples_split=100, n_estimators=200, random_state=1)",
      "text/html": "<style>#sk-container-id-1 {color: black;}#sk-container-id-1 pre{padding: 0;}#sk-container-id-1 div.sk-toggleable {background-color: white;}#sk-container-id-1 label.sk-toggleable__label {cursor: pointer;display: block;width: 100%;margin-bottom: 0;padding: 0.3em;box-sizing: border-box;text-align: center;}#sk-container-id-1 label.sk-toggleable__label-arrow:before {content: \"▸\";float: left;margin-right: 0.25em;color: #696969;}#sk-container-id-1 label.sk-toggleable__label-arrow:hover:before {color: black;}#sk-container-id-1 div.sk-estimator:hover label.sk-toggleable__label-arrow:before {color: black;}#sk-container-id-1 div.sk-toggleable__content {max-height: 0;max-width: 0;overflow: hidden;text-align: left;background-color: #f0f8ff;}#sk-container-id-1 div.sk-toggleable__content pre {margin: 0.2em;color: black;border-radius: 0.25em;background-color: #f0f8ff;}#sk-container-id-1 input.sk-toggleable__control:checked~div.sk-toggleable__content {max-height: 200px;max-width: 100%;overflow: auto;}#sk-container-id-1 input.sk-toggleable__control:checked~label.sk-toggleable__label-arrow:before {content: \"▾\";}#sk-container-id-1 div.sk-estimator input.sk-toggleable__control:checked~label.sk-toggleable__label {background-color: #d4ebff;}#sk-container-id-1 div.sk-label input.sk-toggleable__control:checked~label.sk-toggleable__label {background-color: #d4ebff;}#sk-container-id-1 input.sk-hidden--visually {border: 0;clip: rect(1px 1px 1px 1px);clip: rect(1px, 1px, 1px, 1px);height: 1px;margin: -1px;overflow: hidden;padding: 0;position: absolute;width: 1px;}#sk-container-id-1 div.sk-estimator {font-family: monospace;background-color: #f0f8ff;border: 1px dotted black;border-radius: 0.25em;box-sizing: border-box;margin-bottom: 0.5em;}#sk-container-id-1 div.sk-estimator:hover {background-color: #d4ebff;}#sk-container-id-1 div.sk-parallel-item::after {content: \"\";width: 100%;border-bottom: 1px solid gray;flex-grow: 1;}#sk-container-id-1 div.sk-label:hover label.sk-toggleable__label {background-color: #d4ebff;}#sk-container-id-1 div.sk-serial::before {content: \"\";position: absolute;border-left: 1px solid gray;box-sizing: border-box;top: 0;bottom: 0;left: 50%;z-index: 0;}#sk-container-id-1 div.sk-serial {display: flex;flex-direction: column;align-items: center;background-color: white;padding-right: 0.2em;padding-left: 0.2em;position: relative;}#sk-container-id-1 div.sk-item {position: relative;z-index: 1;}#sk-container-id-1 div.sk-parallel {display: flex;align-items: stretch;justify-content: center;background-color: white;position: relative;}#sk-container-id-1 div.sk-item::before, #sk-container-id-1 div.sk-parallel-item::before {content: \"\";position: absolute;border-left: 1px solid gray;box-sizing: border-box;top: 0;bottom: 0;left: 50%;z-index: -1;}#sk-container-id-1 div.sk-parallel-item {display: flex;flex-direction: column;z-index: 1;position: relative;background-color: white;}#sk-container-id-1 div.sk-parallel-item:first-child::after {align-self: flex-end;width: 50%;}#sk-container-id-1 div.sk-parallel-item:last-child::after {align-self: flex-start;width: 50%;}#sk-container-id-1 div.sk-parallel-item:only-child::after {width: 0;}#sk-container-id-1 div.sk-dashed-wrapped {border: 1px dashed gray;margin: 0 0.4em 0.5em 0.4em;box-sizing: border-box;padding-bottom: 0.4em;background-color: white;}#sk-container-id-1 div.sk-label label {font-family: monospace;font-weight: bold;display: inline-block;line-height: 1.2em;}#sk-container-id-1 div.sk-label-container {text-align: center;}#sk-container-id-1 div.sk-container {/* jupyter's `normalize.less` sets `[hidden] { display: none; }` but bootstrap.min.css set `[hidden] { display: none !important; }` so we also need the `!important` here to be able to override the default hidden behavior on the sphinx rendered scikit-learn.org. See: https://github.com/scikit-learn/scikit-learn/issues/21755 */display: inline-block !important;position: relative;}#sk-container-id-1 div.sk-text-repr-fallback {display: none;}</style><div id=\"sk-container-id-1\" class=\"sk-top-container\"><div class=\"sk-text-repr-fallback\"><pre>RandomForestClassifier(min_samples_split=100, n_estimators=200, random_state=1)</pre><b>In a Jupyter environment, please rerun this cell to show the HTML representation or trust the notebook. <br />On GitHub, the HTML representation is unable to render, please try loading this page with nbviewer.org.</b></div><div class=\"sk-container\" hidden><div class=\"sk-item\"><div class=\"sk-estimator sk-toggleable\"><input class=\"sk-toggleable__control sk-hidden--visually\" id=\"sk-estimator-id-1\" type=\"checkbox\" checked><label for=\"sk-estimator-id-1\" class=\"sk-toggleable__label sk-toggleable__label-arrow\">RandomForestClassifier</label><div class=\"sk-toggleable__content\"><pre>RandomForestClassifier(min_samples_split=100, n_estimators=200, random_state=1)</pre></div></div></div></div></div>"
     },
     "execution_count": 30,
     "metadata": {},
     "output_type": "execute_result"
    }
   ],
   "source": [
    "#Train test data\n",
    "train = nepse.iloc[:-100]\n",
    "test = nepse.iloc[-100:]\n",
    "\n",
    "predictors = [\"Open\", \"High\", \"Low\", \"Close\", \"Volume\"]\n",
    "model.fit(train[predictors], train[\"Target\"])"
   ],
   "metadata": {
    "collapsed": false,
    "ExecuteTime": {
     "end_time": "2024-01-30T14:42:41.585634700Z",
     "start_time": "2024-01-30T14:42:41.093416800Z"
    }
   },
   "id": "aa5ca35807d5b6bd",
   "execution_count": 30
  },
  {
   "cell_type": "code",
   "outputs": [],
   "source": [
    "preds = model.predict(test[predictors])"
   ],
   "metadata": {
    "collapsed": false,
    "ExecuteTime": {
     "end_time": "2024-01-30T14:42:58.450352Z",
     "start_time": "2024-01-30T14:42:58.426120800Z"
    }
   },
   "id": "3be1042b16777302",
   "execution_count": 31
  },
  {
   "cell_type": "code",
   "outputs": [],
   "source": [
    "import pandas as pd\n",
    "preds = pd.Series(preds,index=test.index)"
   ],
   "metadata": {
    "collapsed": false,
    "ExecuteTime": {
     "end_time": "2024-01-30T14:43:00.466729200Z",
     "start_time": "2024-01-30T14:43:00.451832300Z"
    }
   },
   "id": "b9342ee13bb9f02e",
   "execution_count": 32
  },
  {
   "cell_type": "code",
   "outputs": [
    {
     "data": {
      "text/plain": "0.5116279069767442"
     },
     "execution_count": 33,
     "metadata": {},
     "output_type": "execute_result"
    }
   ],
   "source": [
    "precision_score(test[\"Target\"],preds)"
   ],
   "metadata": {
    "collapsed": false,
    "ExecuteTime": {
     "end_time": "2024-01-30T14:43:02.093916500Z",
     "start_time": "2024-01-30T14:43:02.077718200Z"
    }
   },
   "id": "f43061b1774c8a92",
   "execution_count": 33
  },
  {
   "cell_type": "code",
   "outputs": [],
   "source": [
    "combined = pd.concat([test[\"Target\"],preds],axis=1)"
   ],
   "metadata": {
    "collapsed": false,
    "ExecuteTime": {
     "end_time": "2024-01-30T14:43:03.658180Z",
     "start_time": "2024-01-30T14:43:03.643983600Z"
    }
   },
   "id": "676aa54404fb02cb",
   "execution_count": 34
  },
  {
   "cell_type": "code",
   "outputs": [
    {
     "data": {
      "text/plain": "<Axes: xlabel='Date'>"
     },
     "execution_count": 35,
     "metadata": {},
     "output_type": "execute_result"
    },
    {
     "data": {
      "text/plain": "<Figure size 640x480 with 1 Axes>",
      "image/png": "[encoded data removed]"
     },
     "metadata": {},
     "output_type": "display_data"
    }
   ],
   "source": [
    "combined.plot()"
   ],
   "metadata": {
    "collapsed": false,
    "ExecuteTime": {
     "end_time": "2024-01-30T14:43:04.680601600Z",
     "start_time": "2024-01-30T14:43:04.559913200Z"
    }
   },
   "id": "3fb375eeab2d4acc",
   "execution_count": 35
  },
  {
   "cell_type": "code",
   "outputs": [],
   "source": [
    "#Building a backtesting system \n",
    "def predict(train, test, predictors, model):\n",
    "    model.fit(train[predictors], train[\"Target\"])\n",
    "    preds = model.predict(test[predictors])\n",
    "    preds = pd.Series(preds, index=test.index, name=\"Predictions\")\n",
    "    combined = pd.concat([test[\"Target\"],preds], axis=1)\n",
    "    return combined"
   ],
   "metadata": {
    "collapsed": false,
    "ExecuteTime": {
     "end_time": "2024-01-30T14:43:49.584728700Z",
     "start_time": "2024-01-30T14:43:49.544312Z"
    }
   },
   "id": "9e0d0901e9ad5766",
   "execution_count": 44
  },
  {
   "cell_type": "code",
   "outputs": [],
   "source": [
    "def backtest(data, model, predictors, start = 250 , step = 25):\n",
    "    all_predictions = []\n",
    "    \n",
    "    for i in range (start, data.shape[0], step):\n",
    "        train = data.iloc[0:i].copy()\n",
    "        test = data.iloc[i:(i+step)].copy()\n",
    "        predictions = predict(train,test,predictors, model)\n",
    "        all_predictions.append(predictions)\n",
    "    return pd.concat(all_predictions)"
   ],
   "metadata": {
    "collapsed": false,
    "ExecuteTime": {
     "end_time": "2024-01-30T14:43:50.317255200Z",
     "start_time": "2024-01-30T14:43:50.277253800Z"
    }
   },
   "id": "c02373ab93ea634c",
   "execution_count": 45
  },
  {
   "cell_type": "code",
   "outputs": [],
   "source": [
    "predictions = backtest(nepse, model, predictors)"
   ],
   "metadata": {
    "collapsed": false,
    "ExecuteTime": {
     "end_time": "2024-01-30T14:44:02.371033400Z",
     "start_time": "2024-01-30T14:43:50.963061900Z"
    }
   },
   "id": "26cad0141156959f",
   "execution_count": 46
  },
  {
   "cell_type": "code",
   "outputs": [
    {
     "data": {
      "text/plain": "Predictions\n1    467\n0    421\nName: count, dtype: int64"
     },
     "execution_count": 47,
     "metadata": {},
     "output_type": "execute_result"
    }
   ],
   "source": [
    "predictions[\"Predictions\"].value_counts()"
   ],
   "metadata": {
    "collapsed": false,
    "ExecuteTime": {
     "end_time": "2024-01-30T14:44:03.937415600Z",
     "start_time": "2024-01-30T14:44:03.911738200Z"
    }
   },
   "id": "9343be70923cc01c",
   "execution_count": 47
  },
  {
   "cell_type": "code",
   "outputs": [
    {
     "data": {
      "text/plain": "0.5117773019271948"
     },
     "execution_count": 48,
     "metadata": {},
     "output_type": "execute_result"
    }
   ],
   "source": [
    "precision_score(predictions[\"Target\"], predictions[\"Predictions\"])"
   ],
   "metadata": {
    "collapsed": false,
    "ExecuteTime": {
     "end_time": "2024-01-30T14:44:07.342685900Z",
     "start_time": "2024-01-30T14:44:07.326137800Z"
    }
   },
   "id": "e517e34155b0f6b0",
   "execution_count": 48
  },
  {
   "cell_type": "code",
   "outputs": [
    {
     "data": {
      "text/plain": "Target\n0    0.509009\n1    0.490991\nName: count, dtype: float64"
     },
     "execution_count": 49,
     "metadata": {},
     "output_type": "execute_result"
    }
   ],
   "source": [
    "predictions[\"Target\"].value_counts()/predictions.shape[0]"
   ],
   "metadata": {
    "collapsed": false,
    "ExecuteTime": {
     "end_time": "2024-01-30T14:44:09.338262300Z",
     "start_time": "2024-01-30T14:44:09.319650400Z"
    }
   },
   "id": "930f52685db5f527",
   "execution_count": 49
  },
  {
   "cell_type": "code",
   "outputs": [],
   "source": [
    "horizons = [2,5,60]\n",
    "new_predictors = []\n",
    "\n",
    "for horizon in horizons:\n",
    "    rolling_averages = nepse.rolling(horizon).mean()\n",
    "    \n",
    "    ratio_column = f\"Close_Ratio_{horizon}\"\n",
    "    nepse[ratio_column] = nepse[\"Close\"] / rolling_averages[\"Close\"]\n",
    "    \n",
    "    trend_column = f\"Trend_{horizon}\"\n",
    "    nepse[trend_column] = nepse.shift(1).rolling(horizon).sum()[\"Target\"]\n",
    "    \n",
    "    new_predictors+= [ratio_column, trend_column]"
   ],
   "metadata": {
    "collapsed": false,
    "ExecuteTime": {
     "end_time": "2024-01-30T14:44:20.062393900Z",
     "start_time": "2024-01-30T14:44:20.034547500Z"
    }
   },
   "id": "ae811d8339d8d3fd",
   "execution_count": 50
  },
  {
   "cell_type": "code",
   "outputs": [],
   "source": [
    "nepse = nepse.dropna(subset=nepse.columns[nepse.columns != \"Tomorrow\"])"
   ],
   "metadata": {
    "collapsed": false,
    "ExecuteTime": {
     "end_time": "2024-01-30T14:44:21.080293700Z",
     "start_time": "2024-01-30T14:44:21.065184700Z"
    }
   },
   "id": "dc79985df846a8b7",
   "execution_count": 51
  },
  {
   "cell_type": "code",
   "outputs": [
    {
     "data": {
      "text/plain": "               Open     High      Low    Close        Volume  Tomorrow  \\\nDate                                                                     \n2019-04-30  1310.65  1316.53  1296.07  1298.60  9.130180e+08   1294.39   \n2019-05-02  1298.80  1300.43  1282.95  1294.39  5.731450e+08   1277.68   \n2019-05-05  1293.71  1293.71  1276.73  1277.68  6.286410e+08   1299.41   \n2019-05-06  1278.00  1299.41  1270.06  1299.41  6.195650e+08   1301.28   \n2019-05-07  1298.35  1311.18  1295.73  1301.28  6.998490e+08   1297.60   \n...             ...      ...      ...      ...           ...       ...   \n2024-01-24  2098.97  2120.46  2083.45  2088.04  3.897023e+09   2084.09   \n2024-01-25  2088.49  2096.75  2072.78  2084.09  3.764505e+09   2094.46   \n2024-01-28  2084.64  2098.14  2075.37  2094.46  3.833777e+09   2104.72   \n2024-01-29  2097.48  2114.79  2097.23  2104.72  4.566522e+09   2119.61   \n2024-01-30  2105.87  2128.11  2105.46  2119.61  5.544218e+09       NaN   \n\n            Target  Close_Ratio_2  Trend_2  Close_Ratio_5  Trend_5  \\\nDate                                                                 \n2019-04-30       0       0.995512      0.0       0.999718      3.0   \n2019-05-02       0       0.998376      0.0       0.994166      2.0   \n2019-05-05       1       0.993503      0.0       0.983513      1.0   \n2019-05-06       1       1.008432      1.0       1.002571      1.0   \n2019-05-07       0       1.000719      2.0       1.005415      2.0   \n...            ...            ...      ...            ...      ...   \n2024-01-24       0       0.997552      0.0       0.987625      0.0   \n2024-01-25       1       0.999053      0.0       0.992491      0.0   \n2024-01-28       1       1.002482      1.0       1.000834      1.0   \n2024-01-29       1       1.002443      2.0       1.005158      2.0   \n2024-01-30       0       1.003525      2.0       1.010212      3.0   \n\n            Close_Ratio_60  Trend_60  \nDate                                  \n2019-04-30        1.116084      34.0  \n2019-05-02        1.110354      33.0  \n2019-05-05        1.094071      33.0  \n2019-05-06        1.110220      34.0  \n2019-05-07        1.109382      34.0  \n...                    ...       ...  \n2024-01-24        1.061477      27.0  \n2024-01-25        1.057592      27.0  \n2024-01-28        1.060674      28.0  \n2024-01-29        1.063714      28.0  \n2024-01-30        1.069332      28.0  \n\n[1078 rows x 13 columns]",
      "text/html": "<div>\n<style scoped>\n    .dataframe tbody tr th:only-of-type {\n        vertical-align: middle;\n    }\n\n    .dataframe tbody tr th {\n        vertical-align: top;\n    }\n\n    .dataframe thead th {\n        text-align: right;\n    }\n</style>\n<table border=\"1\" class=\"dataframe\">\n  <thead>\n    <tr style=\"text-align: right;\">\n      <th></th>\n      <th>Open</th>\n      <th>High</th>\n      <th>Low</th>\n      <th>Close</th>\n      <th>Volume</th>\n      <th>Tomorrow</th>\n      <th>Target</th>\n      <th>Close_Ratio_2</th>\n      <th>Trend_2</th>\n      <th>Close_Ratio_5</th>\n      <th>Trend_5</th>\n      <th>Close_Ratio_60</th>\n      <th>Trend_60</th>\n    </tr>\n    <tr>\n      <th>Date</th>\n      <th></th>\n      <th></th>\n      <th></th>\n      <th></th>\n      <th></th>\n      <th></th>\n      <th></th>\n      <th></th>\n      <th></th>\n      <th></th>\n      <th></th>\n      <th></th>\n      <th></th>\n    </tr>\n  </thead>\n  <tbody>\n    <tr>\n      <th>2019-04-30</th>\n      <td>1310.65</td>\n      <td>1316.53</td>\n      <td>1296.07</td>\n      <td>1298.60</td>\n      <td>9.130180e+08</td>\n      <td>1294.39</td>\n      <td>0</td>\n      <td>0.995512</td>\n      <td>0.0</td>\n      <td>0.999718</td>\n      <td>3.0</td>\n      <td>1.116084</td>\n      <td>34.0</td>\n    </tr>\n    <tr>\n      <th>2019-05-02</th>\n      <td>1298.80</td>\n      <td>1300.43</td>\n      <td>1282.95</td>\n      <td>1294.39</td>\n      <td>5.731450e+08</td>\n      <td>1277.68</td>\n      <td>0</td>\n      <td>0.998376</td>\n      <td>0.0</td>\n      <td>0.994166</td>\n      <td>2.0</td>\n      <td>1.110354</td>\n      <td>33.0</td>\n    </tr>\n    <tr>\n      <th>2019-05-05</th>\n      <td>1293.71</td>\n      <td>1293.71</td>\n      <td>1276.73</td>\n      <td>1277.68</td>\n      <td>6.286410e+08</td>\n      <td>1299.41</td>\n      <td>1</td>\n      <td>0.993503</td>\n      <td>0.0</td>\n      <td>0.983513</td>\n      <td>1.0</td>\n      <td>1.094071</td>\n      <td>33.0</td>\n    </tr>\n    <tr>\n      <th>2019-05-06</th>\n      <td>1278.00</td>\n      <td>1299.41</td>\n      <td>1270.06</td>\n      <td>1299.41</td>\n      <td>6.195650e+08</td>\n      <td>1301.28</td>\n      <td>1</td>\n      <td>1.008432</td>\n      <td>1.0</td>\n      <td>1.002571</td>\n      <td>1.0</td>\n      <td>1.110220</td>\n      <td>34.0</td>\n    </tr>\n    <tr>\n      <th>2019-05-07</th>\n      <td>1298.35</td>\n      <td>1311.18</td>\n      <td>1295.73</td>\n      <td>1301.28</td>\n      <td>6.998490e+08</td>\n      <td>1297.60</td>\n      <td>0</td>\n      <td>1.000719</td>\n      <td>2.0</td>\n      <td>1.005415</td>\n      <td>2.0</td>\n      <td>1.109382</td>\n      <td>34.0</td>\n    </tr>\n    <tr>\n      <th>...</th>\n      <td>...</td>\n      <td>...</td>\n      <td>...</td>\n      <td>...</td>\n      <td>...</td>\n      <td>...</td>\n      <td>...</td>\n      <td>...</td>\n      <td>...</td>\n      <td>...</td>\n      <td>...</td>\n      <td>...</td>\n      <td>...</td>\n    </tr>\n    <tr>\n      <th>2024-01-24</th>\n      <td>2098.97</td>\n      <td>2120.46</td>\n      <td>2083.45</td>\n      <td>2088.04</td>\n      <td>3.897023e+09</td>\n      <td>2084.09</td>\n      <td>0</td>\n      <td>0.997552</td>\n      <td>0.0</td>\n      <td>0.987625</td>\n      <td>0.0</td>\n      <td>1.061477</td>\n      <td>27.0</td>\n    </tr>\n    <tr>\n      <th>2024-01-25</th>\n      <td>2088.49</td>\n      <td>2096.75</td>\n      <td>2072.78</td>\n      <td>2084.09</td>\n      <td>3.764505e+09</td>\n      <td>2094.46</td>\n      <td>1</td>\n      <td>0.999053</td>\n      <td>0.0</td>\n      <td>0.992491</td>\n      <td>0.0</td>\n      <td>1.057592</td>\n      <td>27.0</td>\n    </tr>\n    <tr>\n      <th>2024-01-28</th>\n      <td>2084.64</td>\n      <td>2098.14</td>\n      <td>2075.37</td>\n      <td>2094.46</td>\n      <td>3.833777e+09</td>\n      <td>2104.72</td>\n      <td>1</td>\n      <td>1.002482</td>\n      <td>1.0</td>\n      <td>1.000834</td>\n      <td>1.0</td>\n      <td>1.060674</td>\n      <td>28.0</td>\n    </tr>\n    <tr>\n      <th>2024-01-29</th>\n      <td>2097.48</td>\n      <td>2114.79</td>\n      <td>2097.23</td>\n      <td>2104.72</td>\n      <td>4.566522e+09</td>\n      <td>2119.61</td>\n      <td>1</td>\n      <td>1.002443</td>\n      <td>2.0</td>\n      <td>1.005158</td>\n      <td>2.0</td>\n      <td>1.063714</td>\n      <td>28.0</td>\n    </tr>\n    <tr>\n      <th>2024-01-30</th>\n      <td>2105.87</td>\n      <td>2128.11</td>\n      <td>2105.46</td>\n      <td>2119.61</td>\n      <td>5.544218e+09</td>\n      <td>NaN</td>\n      <td>0</td>\n      <td>1.003525</td>\n      <td>2.0</td>\n      <td>1.010212</td>\n      <td>3.0</td>\n      <td>1.069332</td>\n      <td>28.0</td>\n    </tr>\n  </tbody>\n</table>\n<p>1078 rows × 13 columns</p>\n</div>"
     },
     "execution_count": 52,
     "metadata": {},
     "output_type": "execute_result"
    }
   ],
   "source": [
    "nepse"
   ],
   "metadata": {
    "collapsed": false,
    "ExecuteTime": {
     "end_time": "2024-01-30T14:44:23.634487400Z",
     "start_time": "2024-01-30T14:44:23.614864Z"
    }
   },
   "id": "e064fc6fa560c27e",
   "execution_count": 52
  },
  {
   "cell_type": "code",
   "outputs": [],
   "source": [
    "model = RandomForestClassifier(n_estimators=200, min_samples_split=50, random_state=1)"
   ],
   "metadata": {
    "collapsed": false,
    "ExecuteTime": {
     "end_time": "2024-01-30T14:44:27.913036500Z",
     "start_time": "2024-01-30T14:44:27.892855300Z"
    }
   },
   "id": "e81598bf39521d80",
   "execution_count": 53
  },
  {
   "cell_type": "code",
   "outputs": [],
   "source": [
    "def predict(train, test, predictors, model):\n",
    "    model.fit(train[predictors], train[\"Target\"])\n",
    "    preds = model.predict_proba(test[predictors])[:,1]\n",
    "    preds[preds >=.6] = 1\n",
    "    preds[preds <.6] = 0\n",
    "    preds = pd.Series(preds, index=test.index, name=\"Predictions\")\n",
    "    combined = pd.concat([test[\"Target\"], preds], axis=1)\n",
    "    return combined"
   ],
   "metadata": {
    "collapsed": false,
    "ExecuteTime": {
     "end_time": "2024-01-30T14:44:30.626487Z",
     "start_time": "2024-01-30T14:44:30.606450100Z"
    }
   },
   "id": "b7bdd483e6f722ac",
   "execution_count": 54
  },
  {
   "cell_type": "code",
   "outputs": [],
   "source": [
    "def backtest(data, model, predictors, start=250, step=25):\n",
    "    all_predictions = []\n",
    "\n",
    "    for i in range(start, data.shape[0], step):\n",
    "        train = data.iloc[0:i].copy()\n",
    "        test = data.iloc[i:(i+step)].copy()\n",
    "        predictions = predict(train, test, predictors, model)\n",
    "        all_predictions.append(predictions)\n",
    "    \n",
    "    return pd.concat(all_predictions)"
   ],
   "metadata": {
    "collapsed": false,
    "ExecuteTime": {
     "end_time": "2024-01-30T14:44:40.699991100Z",
     "start_time": "2024-01-30T14:44:40.679427600Z"
    }
   },
   "id": "64e806db92ea8ba7",
   "execution_count": 57
  },
  {
   "cell_type": "code",
   "outputs": [],
   "source": [
    "predictions = backtest(nepse, model, new_predictors)"
   ],
   "metadata": {
    "collapsed": false,
    "ExecuteTime": {
     "end_time": "2024-01-30T14:44:49.026116900Z",
     "start_time": "2024-01-30T14:44:41.654649200Z"
    }
   },
   "id": "7bfdacce58c467b3",
   "execution_count": 58
  },
  {
   "cell_type": "code",
   "outputs": [
    {
     "data": {
      "text/plain": "Predictions\n0.0    647\n1.0    181\nName: count, dtype: int64"
     },
     "execution_count": 59,
     "metadata": {},
     "output_type": "execute_result"
    }
   ],
   "source": [
    "predictions[\"Predictions\"].value_counts()\n"
   ],
   "metadata": {
    "collapsed": false,
    "ExecuteTime": {
     "end_time": "2024-01-30T14:44:51.719027500Z",
     "start_time": "2024-01-30T14:44:51.699535800Z"
    }
   },
   "id": "407c014fbbd76366",
   "execution_count": 59
  },
  {
   "cell_type": "code",
   "outputs": [
    {
     "data": {
      "text/plain": "0.6022099447513812"
     },
     "execution_count": 60,
     "metadata": {},
     "output_type": "execute_result"
    }
   ],
   "source": [
    "precision_score(predictions[\"Target\"], predictions[\"Predictions\"])\n"
   ],
   "metadata": {
    "collapsed": false,
    "ExecuteTime": {
     "end_time": "2024-01-30T14:44:54.164387400Z",
     "start_time": "2024-01-30T14:44:54.147349900Z"
    }
   },
   "id": "25d389dbdf690b22",
   "execution_count": 60
  },
  {
   "cell_type": "code",
   "outputs": [
    {
     "data": {
      "text/plain": "Target\n0    0.513285\n1    0.486715\nName: count, dtype: float64"
     },
     "execution_count": 61,
     "metadata": {},
     "output_type": "execute_result"
    }
   ],
   "source": [
    "predictions[\"Target\"].value_counts() / predictions.shape[0]\n"
   ],
   "metadata": {
    "collapsed": false,
    "ExecuteTime": {
     "end_time": "2024-01-30T14:44:56.598210400Z",
     "start_time": "2024-01-30T14:44:56.578744800Z"
    }
   },
   "id": "d9ee5adf79df6cfe",
   "execution_count": 61
  },
  {
   "cell_type": "code",
   "outputs": [
    {
     "data": {
      "text/plain": "            Target  Predictions\nDate                           \n2020-08-09       1          0.0\n2020-08-10       0          1.0\n2020-08-11       1          0.0\n2020-08-12       0          0.0\n2020-08-13       0          0.0\n...            ...          ...\n2024-01-24       0          0.0\n2024-01-25       1          0.0\n2024-01-28       1          0.0\n2024-01-29       1          0.0\n2024-01-30       0          1.0\n\n[828 rows x 2 columns]",
      "text/html": "<div>\n<style scoped>\n    .dataframe tbody tr th:only-of-type {\n        vertical-align: middle;\n    }\n\n    .dataframe tbody tr th {\n        vertical-align: top;\n    }\n\n    .dataframe thead th {\n        text-align: right;\n    }\n</style>\n<table border=\"1\" class=\"dataframe\">\n  <thead>\n    <tr style=\"text-align: right;\">\n      <th></th>\n      <th>Target</th>\n      <th>Predictions</th>\n    </tr>\n    <tr>\n      <th>Date</th>\n      <th></th>\n      <th></th>\n    </tr>\n  </thead>\n  <tbody>\n    <tr>\n      <th>2020-08-09</th>\n      <td>1</td>\n      <td>0.0</td>\n    </tr>\n    <tr>\n      <th>2020-08-10</th>\n      <td>0</td>\n      <td>1.0</td>\n    </tr>\n    <tr>\n      <th>2020-08-11</th>\n      <td>1</td>\n      <td>0.0</td>\n    </tr>\n    <tr>\n      <th>2020-08-12</th>\n      <td>0</td>\n      <td>0.0</td>\n    </tr>\n    <tr>\n      <th>2020-08-13</th>\n      <td>0</td>\n      <td>0.0</td>\n    </tr>\n    <tr>\n      <th>...</th>\n      <td>...</td>\n      <td>...</td>\n    </tr>\n    <tr>\n      <th>2024-01-24</th>\n      <td>0</td>\n      <td>0.0</td>\n    </tr>\n    <tr>\n      <th>2024-01-25</th>\n      <td>1</td>\n      <td>0.0</td>\n    </tr>\n    <tr>\n      <th>2024-01-28</th>\n      <td>1</td>\n      <td>0.0</td>\n    </tr>\n    <tr>\n      <th>2024-01-29</th>\n      <td>1</td>\n      <td>0.0</td>\n    </tr>\n    <tr>\n      <th>2024-01-30</th>\n      <td>0</td>\n      <td>1.0</td>\n    </tr>\n  </tbody>\n</table>\n<p>828 rows × 2 columns</p>\n</div>"
     },
     "execution_count": 62,
     "metadata": {},
     "output_type": "execute_result"
    }
   ],
   "source": [
    "predictions"
   ],
   "metadata": {
    "collapsed": false,
    "ExecuteTime": {
     "end_time": "2024-01-30T14:44:58.551474500Z",
     "start_time": "2024-01-30T14:44:58.531441100Z"
    }
   },
   "id": "8dda426911c6334c",
   "execution_count": 62
  },
  {
   "cell_type": "code",
   "outputs": [],
   "source": [
    "# Noq we will try to predict the price of nepse using Deep learning"
   ],
   "metadata": {
    "collapsed": false,
    "ExecuteTime": {
     "end_time": "2024-01-30T15:19:11.825988800Z",
     "start_time": "2024-01-30T15:19:11.813918300Z"
    }
   },
   "id": "4706826de50863e8",
   "execution_count": 63
  },
  {
   "cell_type": "code",
   "outputs": [],
   "source": [
    "import tensorflow as tf\n",
    "from tensorflow import keras\n",
    "from tensorflow.keras import layers\n"
   ],
   "metadata": {
    "collapsed": false,
    "ExecuteTime": {
     "end_time": "2024-01-30T15:19:22.589351500Z",
     "start_time": "2024-01-30T15:19:17.422881700Z"
    }
   },
   "id": "5f79737025773503",
   "execution_count": 64
  },
  {
   "cell_type": "code",
   "outputs": [],
   "source": [],
   "metadata": {
    "collapsed": false,
    "ExecuteTime": {
     "end_time": "2024-01-30T15:19:29.122856700Z",
     "start_time": "2024-01-30T15:19:29.097120500Z"
    }
   },
   "id": "d64a9b19d1f259d3",
   "execution_count": 65
  },
  {
   "cell_type": "code",
   "outputs": [],
   "source": [],
   "metadata": {
    "collapsed": false
   },
   "id": "eef67b4042be6b7c"
  }
 ],
 "metadata": {
  "kernelspec": {
   "display_name": "Python 3",
   "language": "python",
   "name": "python3"
  },
  "language_info": {
   "codemirror_mode": {
    "name": "ipython",
    "version": 2
   },
   "file_extension": ".py",
   "mimetype": "text/x-python",
   "name": "python",
   "nbconvert_exporter": "python",
   "pygments_lexer": "ipython2",
   "version": "2.7.6"
  }
 },
 "nbformat": 4,
 "nbformat_minor": 5
}
